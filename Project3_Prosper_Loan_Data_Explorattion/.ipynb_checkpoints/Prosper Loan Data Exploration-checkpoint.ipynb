{
 "cells": [
  {
   "cell_type": "markdown",
   "metadata": {},
   "source": [
    "# Flights Report in United States\n",
    "\n",
    "by <b>IfeOluwa Ayoola</b>\n",
    "\n",
    "\n",
    "This notebook investigates a dataset that records flights in the United States between January 2006 and April 2008, including airlines, arrival and departure delays, and causes for delays.\n",
    "\n",
    "Data Source 1: http://stat-computing.org/dataexpo/2009/the-data.html\n",
    "<br>Data Source 2: https://dataverse.harvard.edu/dataset.xhtml?persistentId=doi:10.7910/DVN/HG7NV7#\n",
    "\n",
    "<br>\n",
    "\n",
    "### Table of Contents\n",
    "1 <b>Preliminary Wrangling</b>\n",
    "    <br><li>Summary</li>\n",
    "2. <b>Univariate Exploration</b>\n",
    "    <li>Cancelled flights</li>\n",
    "    <li>Delayed flights</li>\n",
    "    <li>Summary</li>\n",
    "3. <b>Bivariate Exploration</b>\n",
    "    <li>Cancelled flights</li>\n",
    "    <li>Delayed flights</li>\n",
    "    <li>Summary</li>\n",
    "4. <b>Multivariate Exploration</b>\n",
    "    <li>Summary</li>"
   ]
  },
  {
   "cell_type": "markdown",
   "metadata": {},
   "source": [
    "### 1. Preliminary Wrangling"
   ]
  },
  {
   "cell_type": "code",
   "execution_count": 1,
   "metadata": {},
   "outputs": [],
   "source": [
    "# importing stacks and packages\n",
    "import numpy as np\n",
    "import pandas as pd\n",
    "import matplotlib.pyplot as plt\n",
    "import seaborn as sns\n",
    "from IPython.display import display, HTML\n",
    "plt.style.use('seaborn')\n",
    "\n",
    "%matplotlib inline"
   ]
  },
  {
   "cell_type": "markdown",
   "metadata": {},
   "source": [
    "Inserting dataset to answer questions about the dataset characteristics.\n",
    "Through this part, I'll make an effort to inspire my exploration objectives. "
   ]
  },
  {
   "cell_type": "code",
   "execution_count": null,
   "metadata": {},
   "outputs": [],
   "source": []
  }
 ],
 "metadata": {
  "kernelspec": {
   "display_name": "Python 3",
   "language": "python",
   "name": "python3"
  },
  "language_info": {
   "codemirror_mode": {
    "name": "ipython",
    "version": 3
   },
   "file_extension": ".py",
   "mimetype": "text/x-python",
   "name": "python",
   "nbconvert_exporter": "python",
   "pygments_lexer": "ipython3",
   "version": "3.8.5"
  }
 },
 "nbformat": 4,
 "nbformat_minor": 4
}
