{
 "cells": [
  {
   "cell_type": "markdown",
   "metadata": {},
   "source": [
    "# Project: Investigate TMBD Movie Data\n",
    "\n",
    "## Table of Contents\n",
    "<ul>\n",
    "<li><a href=\"#intro\">Introduction</a></li>\n",
    "<li><a href=\"#wrangling\">Data Wrangling</a></li>\n",
    "<li><a href=\"#eda\">Exploratory Data Analysis</a></li>\n",
    "<li><a href=\"#conclusions\">Conclusions</a></li>\n",
    "</ul>"
   ]
  },
  {
   "cell_type": "markdown",
   "metadata": {},
   "source": [
    "<a id='intro'></a>\n",
    "## Introduction\n",
    "> For this Data Analyst project, I selected the TMDb movie dataset from kaggle to investigate. According to kaggle introduction page, the data contains information that are provided from The Movie Database (TMDb). It collects 5000+ movies and their rating and basic move information, including user ratings and revenue data.\n",
    "\n",
    "\n",
    "### Metrics for Evaluating the Success Movie\n",
    "<li>How much REVENUE was generated</li>\n",
    "<li>The POPULARITY it gained</li>\n",
    "<li>The average VOTE SCORED</li>\n",
    "\n",
    "### Potential Key to Affect the Success of a Movie\n",
    "<li>Budget</li>\n",
    "<li>Cast</li>\n",
    "<li>Director</li>\n",
    "<li>Tagline</li>\n",
    "<li>Keywords</li>\n",
    "<li>Runtime</li>\n",
    "<li>Genres</li>\n",
    "<li>Production Companies</li>\n",
    "<li>Release Date</li>\n",
    "<li>Vote Average</li>\n",
    "\n",
    "> Since the dataset is featured with the rating of movies as mentioned above, it contains plentiful information for exploring the properties that are associated with successful movies, which can be defined by high popularity, high revenue and high rating score movies. Besides, the dataset also contains the movie released year, so it also can let us to explore the trend in these movie metrics. Therefore, the qestions I am going to explore are including three parts:\n",
    "\n",
    "### General Characteristics\n",
    "\n",
    "<li>Question 1: Popularity Over Years</li>\n",
    "<li>Question 2: The distribution of revenue in different popularity levels in recent five years.</li>\n",
    "<li>Question 3: The distribution of revenue in different score rating levels in recent five years.</li>"
   ]
  },
  {
   "cell_type": "code",
   "execution_count": 1,
   "metadata": {},
   "outputs": [],
   "source": [
    "# Use this cell to set up import statements for all of the packages that you\n",
    "#   plan to use.\n",
    "# Import statements for all of the packages that I plan to use.\n",
    "\n",
    "import pandas as pd\n",
    "import numpy as np\n",
    "import matplotlib.pyplot as plt\n",
    "import seaborn as sns\n",
    "from collections import Counter\n",
    "\n",
    "\n",
    "# Remember to include a 'magic word' so that your visualizations are plotted\n",
    "#   inline with the notebook. See this page for more:\n",
    "#   http://ipython.readthedocs.io/en/stable/interactive/magics.html\n"
   ]
  },
  {
   "cell_type": "code",
   "execution_count": null,
   "metadata": {},
   "outputs": [],
   "source": [
    "# Upgrade pandas to use dataframe.explode() function, which I did. \n",
    "!pip install --upgrade pandas==0.25.0"
   ]
  },
  {
   "cell_type": "markdown",
   "metadata": {},
   "source": [
    "<a id='wrangling'></a>\n",
    "### Data Wrangling"
   ]
  },
  {
   "cell_type": "code",
   "execution_count": null,
   "metadata": {},
   "outputs": [],
   "source": [
    "# Load your data and print out a few lines. Perform operations to inspect data\n",
    "# types and look for instances of missing or possibly errant data.\n",
    "df = pd.read_csv('tmdb-movies.csv')\n",
    "df.head()"
   ]
  },
  {
   "cell_type": "code",
   "execution_count": null,
   "metadata": {},
   "outputs": [],
   "source": [
    "# Checking the data info and null values\n",
    "df.info()"
   ]
  },
  {
   "cell_type": "markdown",
   "metadata": {},
   "source": [
    "The table above shows that, the dataset contains: \n",
    "<li>10866 entries and total</li>\n",
    "<li>21 columns.</li>\n",
    "<li>Null values in: Cast, Director, Overview, Genres_columns, Homepage, Tagline, Keywords and Production_companies.</li>\n",
    "Two columns with too much null values (i.e.Homepage and Tagline) were dropped as they don't add much to asnwering the questions."
   ]
  },
  {
   "cell_type": "code",
   "execution_count": null,
   "metadata": {},
   "outputs": [],
   "source": [
    "df.describe()"
   ]
  },
  {
   "cell_type": "code",
   "execution_count": null,
   "metadata": {
    "scrolled": true
   },
   "outputs": [],
   "source": [
    "#to filter the zero budget data\n",
    "df_budget_zero = df.query('budget == 0')\n",
    "df_budget_zero.head(2)"
   ]
  },
  {
   "cell_type": "code",
   "execution_count": null,
   "metadata": {},
   "outputs": [],
   "source": [
    "#to filter the zero revenue data\n",
    "df_revenue_zero = df.query('revenue == 0')\n",
    "df_revenue_zero.head(2)"
   ]
  },
  {
   "cell_type": "code",
   "execution_count": null,
   "metadata": {},
   "outputs": [],
   "source": [
    "#to count zero values in budget data\n",
    "df_budget_0count =  df.groupby('budget').count()['id']\n",
    "df_budget_0count.head(2)"
   ]
  },
  {
   "cell_type": "code",
   "execution_count": null,
   "metadata": {},
   "outputs": [],
   "source": [
    "#to count zero values in revenue data\n",
    "df_revenue_0count =  df.groupby('revenue').count()['id']\n",
    "df_revenue_0count.head(2)"
   ]
  },
  {
   "cell_type": "code",
   "execution_count": null,
   "metadata": {},
   "outputs": [],
   "source": [
    "#to count zero values in runtime data\n",
    "df_runtime_0count =  df.groupby('runtime').count()['id']\n",
    "df_runtime_0count.head(2)"
   ]
  },
  {
   "cell_type": "markdown",
   "metadata": {},
   "source": [
    "\n",
    "### Data Cleaning\n",
    "<li>Columns are dropped that won't add up to answering the research question: homepage, tagline, imdb_id, overview, budget_adj, revenue_adj, runtime.</li>\n",
    "<li>Columns with duplicate values will be dropped too.</li>\n",
    "<li>Columns with null values are also dropped: cast, director, and genres</li>\n",
    "<li>Columns with zero values are replaced with null values: budget and revenue.</li>"
   ]
  },
  {
   "cell_type": "code",
   "execution_count": null,
   "metadata": {},
   "outputs": [],
   "source": [
    "# Dropping the unncessary columns: imdb_id, homepage, tagline, overview, budget_adj, revenue_adj\n",
    "col = ['imdb_id', 'homepage', 'tagline', 'overview', 'budget_adj', 'revenue_adj']\n",
    "df.drop(col, axis=1, inplace=True)"
   ]
  },
  {
   "cell_type": "code",
   "execution_count": null,
   "metadata": {},
   "outputs": [],
   "source": [
    "# Checking the dropped columns\n",
    "df.head(1)"
   ]
  },
  {
   "cell_type": "code",
   "execution_count": null,
   "metadata": {},
   "outputs": [],
   "source": [
    "#Dropping duplicates\n",
    "df.drop_duplicates(inplace=True)"
   ]
  },
  {
   "cell_type": "code",
   "execution_count": null,
   "metadata": {},
   "outputs": [],
   "source": [
    "#Dropping null values in: cast, director, genres\n",
    "cal2 = ['cast', 'director', 'genres']\n",
    "df.dropna(subset = cal2, how='any', inplace=True)\n",
    "df.isnull().sum()"
   ]
  },
  {
   "cell_type": "code",
   "execution_count": null,
   "metadata": {},
   "outputs": [],
   "source": [
    "#Replacing zero values with null values: budget and revenue\n",
    "df['budget'] = df['budget'].replace(0, np.NaN)\n",
    "df['revenue'] = df['revenue'].replace(0, np.NaN)\n",
    "df.info()"
   ]
  },
  {
   "cell_type": "code",
   "execution_count": null,
   "metadata": {},
   "outputs": [],
   "source": [
    "#Filtering the runtime data with non_zero value\n",
    "df.query('runtime != 0', inplace=True)\n",
    "df.query('runtime == 0')"
   ]
  },
  {
   "cell_type": "markdown",
   "metadata": {},
   "source": [
    "#### Cleaned Dataset"
   ]
  },
  {
   "cell_type": "code",
   "execution_count": null,
   "metadata": {},
   "outputs": [],
   "source": [
    "df.info()\n",
    "df.describe()"
   ]
  },
  {
   "cell_type": "markdown",
   "metadata": {},
   "source": [
    "<a id='eda'></a>\n",
    "## Exploratory Data Analysis\n",
    "\n",
    "\n",
    "<li>Question 1: Popularity Over Years</li>\n",
    "<li>Question 2: The distribution of revenue in different popularity levels in recent five years.</li>\n",
    "<li>Question 3: The distribution of revenue in different score rating levels in recent five years.</li>"
   ]
  },
  {
   "cell_type": "markdown",
   "metadata": {},
   "source": [
    "<a id='ResearchQuestion'></a>\n",
    "\n",
    "### QUESTION 1"
   ]
  },
  {
   "cell_type": "code",
   "execution_count": null,
   "metadata": {
    "scrolled": true
   },
   "outputs": [],
   "source": [
    "df.head(2)"
   ]
  },
  {
   "cell_type": "code",
   "execution_count": null,
   "metadata": {},
   "outputs": [],
   "source": [
    "#Computing the mean for popularity\n",
    "p_mean = df.groupby('release_year').mean()['popularity']\n",
    "p_mean.tail()"
   ]
  },
  {
   "cell_type": "code",
   "execution_count": null,
   "metadata": {},
   "outputs": [],
   "source": [
    "# compute the median for popularity\n",
    "p_median = df.groupby('release_year').median()['popularity']\n",
    "p_median.tail()"
   ]
  },
  {
   "cell_type": "markdown",
   "metadata": {},
   "source": [
    "Median values for popularity is more sequenced than for mean."
   ]
  },
  {
   "cell_type": "markdown",
   "metadata": {},
   "source": [
    "### QUESTION 2"
   ]
  },
  {
   "cell_type": "markdown",
   "metadata": {},
   "source": [
    "It will be essential to build a cut_into_quantile function to have the data in four quartile: 'Little', 'Average', 'Much', 'Very Much'"
   ]
  },
  {
   "cell_type": "code",
   "execution_count": null,
   "metadata": {},
   "outputs": [],
   "source": [
    "def cut_into_quantile(dfname ,column_name):\n",
    "# Quartile maximum and minimum values\n",
    "    min_value = dfname[column_name].min()\n",
    "    first_quantile = dfname[column_name].describe()[4]\n",
    "    second_quantile = dfname[column_name].describe()[5]\n",
    "    third_quantile = dfname[column_name].describe()[6]\n",
    "    max_value = dfname[column_name].max()\n",
    "# Bin_edges to cut quartiles into groups\n",
    "    bin_edges = [ min_value, first_quantile, second_quantile, third_quantile, max_value]\n",
    "# The four levels\n",
    "    bin_names = [ 'Little', 'Average', 'Much', 'Very Much'] \n",
    "# Budget_levels column\n",
    "    name = '{}_range'.format(column_name)\n",
    "    dfname[name] = pd.cut(dfname[column_name], bin_edges, labels=bin_names, include_lowest = True)\n",
    "    return dfname"
   ]
  },
  {
   "cell_type": "code",
   "execution_count": null,
   "metadata": {
    "scrolled": true
   },
   "outputs": [],
   "source": [
    "#Sorting for the most recent 5 years\n",
    "dfyear =[2011,2012,2013,2014,2015]\n",
    "df_q2 = pd.DataFrame()\n",
    "\n",
    "#Applying quartiles to each year\n",
    "for year in dfyear:\n",
    "    dfn = df.query('release_year == \"%s\"' % year)\n",
    "    dfn2 = cut_into_quantile(dfn,'revenue')\n",
    "    df_q2 = df_q2.append(dfn2)\n",
    "df_q2.info()"
   ]
  },
  {
   "cell_type": "markdown",
   "metadata": {},
   "source": [
    "With the new column created (revenue_levels), let's now explore popularity level in each year"
   ]
  },
  {
   "cell_type": "code",
   "execution_count": null,
   "metadata": {},
   "outputs": [],
   "source": [
    "# Grouping the revenue_levels by year, and calculating the popularity median\n",
    "dfq2_summary = df_q2.groupby(['release_year','revenue_range']).median()\n",
    "dfq2_summary.tail(10)"
   ]
  },
  {
   "cell_type": "markdown",
   "metadata": {},
   "source": [
    "Visualization will portray the findings better ... See below:"
   ]
  },
  {
   "cell_type": "code",
   "execution_count": null,
   "metadata": {},
   "outputs": [],
   "source": [
    "# Setting the positions\n",
    "pos = list(range(len(dfq2_summary.query('revenue_range ==\"Little\"'))))\n",
    "width = 0.2 \n",
    "\n",
    "#The bars and axis\n",
    "fig, ax = plt.subplots(figsize=(10,5))\n",
    "plt.bar(pos,\n",
    "        dfq2_summary.query('revenue_range ==\"Little\"')['popularity'], \n",
    "        width,\n",
    "        alpha=0.5,\n",
    "        color='#273746',\n",
    "        label= 'Little') \n",
    "\n",
    "plt.bar([p + width for p in pos], \n",
    "        dfq2_summary.query('revenue_range ==\"Average\"')['popularity'],\n",
    "        width, \n",
    "        alpha=0.5, \n",
    "        color='#B03A2E', \n",
    "        label='Average') \n",
    "\n",
    "plt.bar([p + width*2 for p in pos], \n",
    "        dfq2_summary.query('revenue_range ==\"Much\"')['popularity'], \n",
    "        width, \n",
    "        alpha=0.5, \n",
    "        color='#27AE60', \n",
    "        label='Much') \n",
    "\n",
    "plt.bar([p + width*3 for p in pos], \n",
    "        dfq2_summary.query('revenue_range ==\"Very Much\"')['popularity'], \n",
    "        width, \n",
    "        alpha=0.5, \n",
    "        color='#6C3483', \n",
    "        label='Very Much')\n",
    "\n",
    "ax.set_ylabel('popularity')\n",
    "ax.set_xlabel('Revenue_Range by Year')\n",
    "ax.set_title('2015 - 2011 Revenue_Range by Popularity')\n",
    "\n",
    "ax.set_xticks([p + 1.5 * width for p in pos])\n",
    "ax.set_xticklabels([2011,2012,2013,2014,2015])\n",
    "\n",
    "plt.legend( loc='upper left')\n",
    "plt.grid()\n",
    "plt.show()"
   ]
  },
  {
   "cell_type": "markdown",
   "metadata": {},
   "source": [
    "Between 2011 - 2015, movies that have generated very much revenue has increase popularity years.\n",
    "This depicts that revenue range has a significant relationship with popularity."
   ]
  },
  {
   "cell_type": "markdown",
   "metadata": {},
   "source": [
    "### QUESTION 3"
   ]
  },
  {
   "cell_type": "markdown",
   "metadata": {},
   "source": [
    "To explore the distribution of revenue in different score rating levels (2011 - 2015), almost the same line of code in Question 2 will be applicable here."
   ]
  },
  {
   "cell_type": "code",
   "execution_count": null,
   "metadata": {
    "scrolled": true
   },
   "outputs": [],
   "source": [
    "# Grouping the revenue_range by year and finding the vote_average mean\n",
    "dfq2_summary = df_q2.groupby(['release_year','revenue_range']).mean()\n",
    "dfq2_summary.tail(10)"
   ]
  },
  {
   "cell_type": "markdown",
   "metadata": {},
   "source": [
    "Visualizations will make the question more answerable."
   ]
  },
  {
   "cell_type": "code",
   "execution_count": null,
   "metadata": {},
   "outputs": [],
   "source": [
    "pos = list(range(len(dfq2_summary.query('revenue_range ==\"Little\"'))))\n",
    "width = 0.2 \n",
    "\n",
    "#Setting the chart range\n",
    "fig, ax = plt.subplots(figsize=(12,3))\n",
    "\n",
    "#Chart parameters\n",
    "plt.bar(pos,\n",
    "        dfq2_summary.query('revenue_range ==\"Little\"')['vote_average'],\n",
    "        width,\n",
    "        alpha=0.5, \n",
    "        color='#DE3163', \n",
    "        label= 'Low') \n",
    "\n",
    "plt.bar([p + width for p in pos],\n",
    "        dfq2_summary.query('revenue_range ==\"Average\"')['vote_average'],\n",
    "        width, \n",
    "        alpha=0.5, \n",
    "        color='#6495ED', \n",
    "        label='Medium') \n",
    "\n",
    "plt.bar([p + width*2 for p in pos], \n",
    "        dfq2_summary.query('revenue_range ==\"Much\"')['vote_average'], \n",
    "        width, \n",
    "        alpha=0.5, \n",
    "        color='#DFFF00', \n",
    "        label='Much') \n",
    "\n",
    "plt.bar([p + width*3 for p in pos],\n",
    "        dfq2_summary.query('revenue_range ==\"Very Much\"')['vote_average'], \n",
    "        width, \n",
    "        alpha=0.5, \n",
    "        color='#1C2833', \n",
    "        label='Very Much')\n",
    "\n",
    "ax.set_ylabel('vote average')\n",
    "ax.set_xlabel('Revenue Range by Year')\n",
    "ax.set_title('2011 - 2015 Revenue Range by Vote Average Score')\n",
    "\n",
    "ax.set_xticks([p + 1.5 * width for p in pos])\n",
    "ax.set_xticklabels([2015,2014,2013,2012,2011])\n",
    "\n",
    "plt.ylim(2, 10)\n",
    "\n",
    "plt.legend(loc='upper center')\n",
    "plt.grid()\n",
    "plt.show()"
   ]
  },
  {
   "cell_type": "markdown",
   "metadata": {},
   "source": [
    "<a id='conclusions'></a>\n",
    "## Conclusions\n",
    "\n",
    "<li>QUESTION 1 implies that movie popularity trend increase from 1960 averagely.</li>\n",
    "<li>QUESTION 2 revealed that, movies with high revenue gained more popularity with 2011 - 2015, and</li>\n",
    "<li>QUESTION 3 shows the properties associated with increase voting score.</li>"
   ]
  },
  {
   "cell_type": "code",
   "execution_count": null,
   "metadata": {},
   "outputs": [],
   "source": [
    "from subprocess import call\n",
    "call(['python', '-m', 'nbconvert', 'Investigate_a_Dataset.ipynb'])"
   ]
  },
  {
   "cell_type": "code",
   "execution_count": null,
   "metadata": {},
   "outputs": [],
   "source": []
  }
 ],
 "metadata": {
  "kernelspec": {
   "display_name": "Python 3",
   "language": "python",
   "name": "python3"
  },
  "language_info": {
   "codemirror_mode": {
    "name": "ipython",
    "version": 3
   },
   "file_extension": ".py",
   "mimetype": "text/x-python",
   "name": "python",
   "nbconvert_exporter": "python",
   "pygments_lexer": "ipython3",
   "version": "3.8.5"
  }
 },
 "nbformat": 4,
 "nbformat_minor": 2
}
