{
 "cells": [
  {
   "cell_type": "markdown",
   "metadata": {},
   "source": [
    "# Project: Wrangle and Analyze Data\n",
    "\n",
    "## Gathering Data\n",
    "\n",
    "\n",
    "Three different sources were used to gather the data, which are:\n",
    "1. The WeRateDogs Twitter archive.\n",
    "\n",
    "2. The Tweet Image Predictions.\n",
    "\n",
    "3. Tweeter API. Using Tweepy:\n",
    "<ul>\n",
    "<li>Retweet count</li>\n",
    "<li>Favorite count</li>\n",
    "<li>Created at</li>\n",
    "<li>Full text</li>\n",
    "</ul>\n",
    "\n",
    "\n",
    "## Data Tidiness:\n",
    "<ul>\n",
    "<li>Merge the three datasets together.</li>\n",
    "<li>Delete the text column from the merged dataset as included the full_text column in the tweet_df dataframe.</li>\n",
    "<li>Delete the timestamp column from the merged dataset as included the created_at column in the tweet_df dataframe.</li>\n",
    "<li>Create seperate columns for date from time.</li>\n",
    "<li>Instead of the html statement, parse the column source to display the direct source (such as an iPhone, Tweetdeck, etc.)</li>\n",
    "<li>Make a new column named rating ratio, which is the sum of rating numerator and rating denominator..</li>\n",
    "<li>Full text: Some tweets mention multiple dogs and provide multiple phases and ratings. I'll add a new column named stage to incorporate the dog stage and remove the remaining four columns. When many stages are mentioned in a tweet, the stage will contain extra stages such as: doggo|pupper, doggo|floofer, and doggo|puppo.</li>\n",
    "</ul>\n",
    "    \n",
    "\n",
    "\n",
    "## Cleaning Data:\n",
    "<ul>\n",
    "<li>Merge the 3 datasets together.</li>\n",
    "    1. The number of rows of the merge dataset is 1981.\n",
    "    <br>\n",
    "    2. Create a new dataframe called tweet_full_df_clean to work on and keep the original dataframe for reference.\n",
    "    <br>\n",
    "    \n",
    "<li>Delete retweets from the dataset</li>\n",
    "<li>Delete the extra columns:</li>\n",
    "    1. Delete the following columns: retweeted_status_id, retweeted_status_user_id,retweeted_status_timestamp, timestam, text, in_reply_to_status_id, in_reply_to_user_id\n",
    "<li>Create separate columns for date a time based on the created_at column.</li>\n",
    "<li>Parse the column source to show the direct source (for ex: Tweeter for iPhone) rather than the full link.</li>\n",
    "<li>Converte tweet_id to string.</li>\n",
    "<li>Drop duplicates.</li>\n",
    "<li>Re-format the content of columns p1, p2, p3.</li>\n",
    "    1. Convert to upper case and removed underscores.\n",
    "<li>Isolate the erraneous values in the rating_denominator and rating_numerator columns and fix them programmatically.</li>\n",
    "<li>Create a new column called rating_ratio which is rating_numerator divided by rating_denominator.</li>\n",
    "<li>Create a new categorical column called stage to include the dog stages and delete the old 4 columns.</li>\n",
    "<li>Resort the dataframe columns.</li>\n",
    "<li>Save the dataframe to a file called twitter_archive_main.csv.</li>"
   ]
  },
  {
   "cell_type": "code",
   "execution_count": null,
   "metadata": {},
   "outputs": [],
   "source": []
  }
 ],
 "metadata": {
  "kernelspec": {
   "display_name": "Python 3",
   "language": "python",
   "name": "python3"
  },
  "language_info": {
   "codemirror_mode": {
    "name": "ipython",
    "version": 3
   },
   "file_extension": ".py",
   "mimetype": "text/x-python",
   "name": "python",
   "nbconvert_exporter": "python",
   "pygments_lexer": "ipython3",
   "version": "3.8.5"
  }
 },
 "nbformat": 4,
 "nbformat_minor": 4
}
